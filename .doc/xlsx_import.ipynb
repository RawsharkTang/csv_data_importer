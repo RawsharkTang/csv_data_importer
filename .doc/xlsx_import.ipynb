{
 "cells": [
  {
   "cell_type": "markdown",
   "metadata": {},
   "source": [
    "## Readme\n",
    "This script is intended to convert xlsx to several csv file so the godot engine can parse them with the plugin.\n",
    "Also the csv format helps with git-diff\n"
   ]
  },
  {
   "cell_type": "code",
   "execution_count": 4,
   "metadata": {},
   "outputs": [],
   "source": [
    "import pandas as pd\n",
    "\n",
    "# Function to convert each sheet in the Excel file to a separate CSV file\n",
    "def convert_xlsx_to_csv(excel_file,export_path,skip_row=[]):\n",
    "    # Read the Excel file\n",
    "    with pd.ExcelFile(excel_file) as excel_data:\n",
    "        # Loop through each sheet in the Excel file\n",
    "        for sheet_name in excel_data.sheet_names:\n",
    "            if sheet_name.startswith(\"_\"):\n",
    "                continue\n",
    "            # Read the sheet into a DataFrame\n",
    "            df = excel_data.parse(sheet_name)\n",
    "            df = df.drop(index=skip_row)\n",
    "            # Define the CSV file name based on the sheet name\n",
    "            csv_file = export_path + f\"{sheet_name}.csv\"\n",
    "            \n",
    "            # Save the DataFrame to a CSV file\n",
    "            df.to_csv(csv_file, index=False)  # index=False to avoid writing row indices\n",
    "            \n",
    "            print(f\"Sheet '{sheet_name}' has been converted to '{csv_file}'\")\n",
    "        \n",
    "    excel_data.close()\n",
    "    \n",
    "\n",
    "\n"
   ]
  },
  {
   "cell_type": "code",
   "execution_count": 5,
   "metadata": {},
   "outputs": [],
   "source": [
    "# Replace with your xlsx path:\n",
    "# excel_file = '../Data.xlsx'  \n",
    "excel_file = 'XLSX/Data.xlsx' \n",
    "# Replace with your export directive:\n",
    "export_path = '../csv/' # resources\\data\\csv"
   ]
  },
  {
   "cell_type": "code",
   "execution_count": 6,
   "metadata": {},
   "outputs": [
    {
     "name": "stdout",
     "output_type": "stream",
     "text": [
      "Sheet 'TestData' has been converted to '../csv/TestData.csv'\n"
     ]
    }
   ],
   "source": [
    "\n",
    "convert_xlsx_to_csv(excel_file,export_path)"
   ]
  }
 ],
 "metadata": {
  "kernelspec": {
   "display_name": "Python 3",
   "language": "python",
   "name": "python3"
  },
  "language_info": {
   "codemirror_mode": {
    "name": "ipython",
    "version": 3
   },
   "file_extension": ".py",
   "mimetype": "text/x-python",
   "name": "python",
   "nbconvert_exporter": "python",
   "pygments_lexer": "ipython3",
   "version": "3.13.2"
  }
 },
 "nbformat": 4,
 "nbformat_minor": 2
}
